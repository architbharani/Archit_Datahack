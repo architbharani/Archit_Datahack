{
 "cells": [
  {
   "cell_type": "code",
   "execution_count": 1,
   "metadata": {},
   "outputs": [],
   "source": [
    "import pandas as pd\n",
    "import numpy as np"
   ]
  },
  {
   "cell_type": "code",
   "execution_count": 2,
   "metadata": {},
   "outputs": [],
   "source": [
    "X=pd.read_csv(\"training_set_features.csv\")\n",
    "y=pd.read_csv(\"training_set_labels.csv\")\n",
    "test=pd.read_csv(\"test_set_features.csv\")"
   ]
  },
  {
   "cell_type": "code",
   "execution_count": 3,
   "metadata": {},
   "outputs": [],
   "source": [
    "# test.isnull().sum()\n",
    "# X.isnull().sum()"
   ]
  },
  {
   "cell_type": "code",
   "execution_count": 4,
   "metadata": {},
   "outputs": [
    {
     "data": {
      "text/plain": [
       "Index(['age_group', 'education', 'race', 'sex', 'income_poverty',\n",
       "       'marital_status', 'rent_or_own', 'employment_status', 'hhs_geo_region',\n",
       "       'census_msa', 'employment_industry', 'employment_occupation'],\n",
       "      dtype='object')"
      ]
     },
     "execution_count": 4,
     "metadata": {},
     "output_type": "execute_result"
    }
   ],
   "source": [
    "a=X.select_dtypes(include=['object']).columns\n",
    "a"
   ]
  },
  {
   "cell_type": "code",
   "execution_count": 5,
   "metadata": {},
   "outputs": [
    {
     "name": "stdout",
     "output_type": "stream",
     "text": [
      "age_group  :  ['55 - 64 Years' '35 - 44 Years' '18 - 34 Years' '65+ Years'\n",
      " '45 - 54 Years']\n",
      "\n",
      "education  :  ['< 12 Years' '12 Years' 'College Graduate' 'Some College' nan]\n",
      "\n",
      "race  :  ['White' 'Black' 'Other or Multiple' 'Hispanic']\n",
      "\n",
      "sex  :  ['Female' 'Male']\n",
      "\n",
      "income_poverty  :  ['Below Poverty' '<= $75,000, Above Poverty' '> $75,000' nan]\n",
      "\n",
      "marital_status  :  ['Not Married' 'Married' nan]\n",
      "\n",
      "rent_or_own  :  ['Own' 'Rent' nan]\n",
      "\n",
      "employment_status  :  ['Not in Labor Force' 'Employed' 'Unemployed' nan]\n",
      "\n",
      "hhs_geo_region  :  ['oxchjgsf' 'bhuqouqj' 'qufhixun' 'lrircsnp' 'atmpeygn' 'lzgpxyit'\n",
      " 'fpwskwrf' 'mlyzmhmf' 'dqpwygqj' 'kbazzjca']\n",
      "\n",
      "census_msa  :  ['Non-MSA' 'MSA, Not Principle  City' 'MSA, Principle City']\n",
      "\n",
      "employment_industry  :  [nan 'pxcmvdjn' 'rucpziij' 'wxleyezf' 'saaquncn' 'xicduogh' 'ldnlellj'\n",
      " 'wlfvacwt' 'nduyfdeo' 'fcxhlnwr' 'vjjrobsf' 'arjwrbjb' 'atmlpfrs'\n",
      " 'msuufmds' 'xqicxuve' 'phxvnwax' 'dotnnunm' 'mfikgejo' 'cfqqtusy'\n",
      " 'mcubkhph' 'haxffmxo' 'qnlwzans']\n",
      "\n",
      "employment_occupation  :  [nan 'xgwztkwe' 'xtkaffoo' 'emcorrxb' 'vlluhbov' 'xqwwgdyp' 'ccgxvspp'\n",
      " 'qxajmpny' 'kldqjyjy' 'mxkfnird' 'hfxkjkmi' 'bxpfxfdn' 'ukymxvdu'\n",
      " 'cmhcxjea' 'haliazsg' 'dlvbwzss' 'xzmlyyjv' 'oijqvulv' 'rcertsgn'\n",
      " 'tfqavkke' 'hodpvpew' 'uqqtjvyb' 'pvmttkik' 'dcjcmpih']\n",
      "\n"
     ]
    }
   ],
   "source": [
    "from sklearn.pipeline import Pipeline\n",
    "from sklearn.preprocessing import OneHotEncoder\n",
    "from sklearn.compose import ColumnTransformer\n",
    "for col in a:\n",
    "    print(col,\" : \", X[col].unique())\n",
    "    print()"
   ]
  },
  {
   "cell_type": "code",
   "execution_count": 6,
   "metadata": {},
   "outputs": [
    {
     "name": "stdout",
     "output_type": "stream",
     "text": [
      "health_insurance\n",
      "income_poverty\n",
      "employment_industry\n",
      "employment_occupation\n"
     ]
    }
   ],
   "source": [
    "for col in X.columns:\n",
    "    if X[col].isnull().sum()>3000:\n",
    "        print(col)"
   ]
  },
  {
   "cell_type": "code",
   "execution_count": 7,
   "metadata": {},
   "outputs": [],
   "source": [
    "X.drop(columns=['employment_industry', 'employment_occupation','health_insurance'], inplace=True)"
   ]
  },
  {
   "cell_type": "code",
   "execution_count": 8,
   "metadata": {},
   "outputs": [],
   "source": [
    "id_X=X['respondent_id']\n",
    "X.drop(columns=['respondent_id'], inplace=True)"
   ]
  },
  {
   "cell_type": "code",
   "execution_count": 9,
   "metadata": {},
   "outputs": [
    {
     "name": "stdout",
     "output_type": "stream",
     "text": [
      "age_group\n",
      "['55 - 64 Years' '35 - 44 Years' '18 - 34 Years' '65+ Years'\n",
      " '45 - 54 Years']\n",
      "\n",
      "education\n",
      "['< 12 Years' '12 Years' 'College Graduate' 'Some College' nan]\n",
      "\n",
      "income_poverty\n",
      "['Below Poverty' '<= $75,000, Above Poverty' '> $75,000' nan]\n",
      "\n",
      "census_msa\n",
      "['Non-MSA' 'MSA, Not Principle  City' 'MSA, Principle City']\n",
      "\n"
     ]
    }
   ],
   "source": [
    "columns_to_encode = ['age_group', 'education', 'income_poverty','census_msa']\n",
    "\n",
    "for col in a:\n",
    "    if(col in columns_to_encode):\n",
    "        print(col)\n",
    "        print(X[col].unique())\n",
    "        print()\n"
   ]
  },
  {
   "cell_type": "code",
   "execution_count": 10,
   "metadata": {},
   "outputs": [],
   "source": [
    "null_object_cols = X.select_dtypes(include='object').columns[X.select_dtypes(include='object').isnull().any()]\n",
    "null_object_cols = [col for col in null_object_cols if X[col].isnull().sum() > 0]\n",
    "\n",
    "null_numeric_cols = X.select_dtypes(exclude='object').columns[X.select_dtypes(exclude='object').isnull().any()]\n",
    "null_numeric_cols = [col for col in null_numeric_cols if X[col].isnull().sum() > 0]\n"
   ]
  },
  {
   "cell_type": "code",
   "execution_count": 11,
   "metadata": {},
   "outputs": [
    {
     "data": {
      "text/plain": [
       "employment_status\n",
       "Employed              13560\n",
       "Not in Labor Force    10231\n",
       "Unemployed             1453\n",
       "Name: count, dtype: int64"
      ]
     },
     "execution_count": 11,
     "metadata": {},
     "output_type": "execute_result"
    }
   ],
   "source": [
    "X['employment_status'].value_counts()"
   ]
  },
  {
   "cell_type": "code",
   "execution_count": 12,
   "metadata": {},
   "outputs": [],
   "source": [
    "X['employment_status'].fillna('Employed', inplace=True)"
   ]
  },
  {
   "cell_type": "code",
   "execution_count": 13,
   "metadata": {},
   "outputs": [],
   "source": [
    "from sklearn.preprocessing import LabelEncoder\n",
    "from sklearn.preprocessing import OneHotEncoder\n",
    "from sklearn.compose import ColumnTransformer\n",
    "from sklearn.pipeline import Pipeline\n",
    "from sklearn.impute import KNNImputer\n",
    "from sklearn.preprocessing import StandardScaler\n",
    "from sklearn.impute import SimpleImputer\n",
    "\n",
    "columns_to_encode = ['race', 'sex','employment_status', 'hhs_geo_region']\n",
    "\n",
    "null_numeric_cols = X.select_dtypes(exclude='object').columns[X.select_dtypes(exclude='object').isnull().any()]\n",
    "null_numeric_cols = [col for col in null_numeric_cols if X[col].isnull().sum() > 0]\n",
    "\n",
    "\n",
    "# Create a ColumnTransformer\n",
    "transformer = ColumnTransformer([\n",
    "    ('imputer',KNNImputer(n_neighbors=5),null_numeric_cols),\n",
    "    ('one_hot_encoder', OneHotEncoder(sparse_output=False,drop='first'), columns_to_encode),\n",
    "    ],\n",
    "    remainder='passthrough')\n",
    "\n",
    "label_encode_col = ['age_group', 'education', 'income_poverty','census_msa','marital_status','rent_or_own']\n",
    "labels = {\n",
    "    'age_group': {'18 - 34 Years': 0, '35 - 44 Years': 1, '45 - 54 Years': 2,'55 - 64 Years': 3, '65+ Years': 4},\n",
    "    'education': {'nan':0,'< 12 Years': 1, '12 Years': 2, 'Some College': 3,'College Graduate':4},\n",
    "    'income_poverty': {'nan':0,'Below Poverty': 0, '<= $75,000, Above Poverty': 1, '> $75,000': 2},\n",
    "    'census_msa':{ 'Non-MSA': 0, 'MSA, Not Principle  City': 1, 'MSA, Principle City': 2},\n",
    "    'marital_status': {'nan':0,'Not Married': 0, 'Married': 1},\n",
    "    'rent_or_own': {'nan':0,'Rent': 0, 'Own': 1},\n",
    "    \n",
    "}\n",
    "\n",
    "for col in label_encode_col:\n",
    "    X[col] = X[col].map(labels[col])\n",
    "\n",
    "X.loc[:, label_encode_col] = X.loc[:, label_encode_col].fillna(0)\n"
   ]
  },
  {
   "cell_type": "code",
   "execution_count": 14,
   "metadata": {},
   "outputs": [],
   "source": [
    "pipeline = Pipeline([\n",
    "    ('column_transformer', transformer),\n",
    "    ('scaler', StandardScaler(with_mean=False))\n",
    "])\n",
    "X_encoded = pipeline.fit_transform(X)"
   ]
  },
  {
   "cell_type": "code",
   "execution_count": 15,
   "metadata": {},
   "outputs": [],
   "source": [
    "y.drop(columns=['respondent_id'], inplace=True)"
   ]
  },
  {
   "cell_type": "code",
   "execution_count": 16,
   "metadata": {},
   "outputs": [],
   "source": [
    "from sklearn.model_selection import train_test_split\n",
    "X_train,X_test,y_train,y_test=train_test_split(X_encoded,y,test_size=0.2,random_state=42)"
   ]
  },
  {
   "cell_type": "code",
   "execution_count": 17,
   "metadata": {},
   "outputs": [],
   "source": [
    "from sklearn.ensemble import RandomForestClassifier\n",
    "from sklearn.model_selection import cross_val_score\n",
    "# logistic regression and svc classifier\n",
    "from sklearn.linear_model import LogisticRegression\n",
    "from sklearn.svm import SVC\n",
    "from sklearn.ensemble import RandomForestClassifier\n",
    "from sklearn.metrics import roc_auc_score\n"
   ]
  },
  {
   "cell_type": "code",
   "execution_count": 18,
   "metadata": {},
   "outputs": [],
   "source": [
    "y1=y_train.iloc[:,0]\n",
    "y2=y_train.iloc[:,1]\n",
    "y1_test=y_test.iloc[:,0]\n",
    "y2_test=y_test.iloc[:,1]"
   ]
  },
  {
   "cell_type": "code",
   "execution_count": 31,
   "metadata": {},
   "outputs": [
    {
     "name": "stdout",
     "output_type": "stream",
     "text": [
      "0.8322021998595834 0.7709805757079335 0.6778031838031937 0.7685618138305182\n",
      "0.8367652564582553 0.7832272557094722 0.6821508710889241 0.7804425755531347\n"
     ]
    }
   ],
   "source": [
    "from sklearn.multioutput import ClassifierChain\n",
    "from sklearn.model_selection import cross_val_predict\n",
    "from sklearn.metrics import f1_score\n",
    "from sklearn.metrics import accuracy_score\n",
    "\n",
    "chain_clf = LogisticRegression()\n",
    "\n",
    "y1_pred = cross_val_predict(chain_clf, X_train, y1, cv=3)\n",
    "y2_pred= cross_val_predict(chain_clf, X_train, y2, cv=3)\n",
    "a=accuracy_score(y1, y1_pred)\n",
    "b=accuracy_score(y2, y2_pred)\n",
    "c=roc_auc_score(y1, y1_pred)\n",
    "d=roc_auc_score(y2, y2_pred)\n",
    "\n",
    "print(a,b,c,d)\n",
    "\n",
    "m1 = LogisticRegression()\n",
    "m2 = LogisticRegression()\n",
    "\n",
    "m1.fit(X_train, y1)\n",
    "y1_pred_test=m1.predict(X_test)\n",
    "m2.fit(X_train, y2)\n",
    "\n",
    "y2_pred_test=m2.predict(X_test)\n",
    "\n",
    "a=accuracy_score(y1_test, y1_pred_test)\n",
    "b=accuracy_score(y2_test, y2_pred_test)\n",
    "c=roc_auc_score(y1_test, y1_pred_test)\n",
    "d=roc_auc_score(y2_test, y2_pred_test)\n",
    "\n",
    "print(a,b,c,d)"
   ]
  },
  {
   "cell_type": "code",
   "execution_count": 20,
   "metadata": {},
   "outputs": [
    {
     "name": "stdout",
     "output_type": "stream",
     "text": [
      "0.8026679148139481 0.6955768780716125 0.622666227807963 0.6923948143934786\n",
      "0.8026956196181205 0.7064769749157619 0.6187796771130105 0.702578141394931\n"
     ]
    }
   ],
   "source": [
    "# from sklearn.neighbors import KNeighborsClassifier\n",
    "# chain_clf = KNeighborsClassifier()\n",
    "\n",
    "# y1_pred = cross_val_predict(chain_clf, X_train, y1, cv=3)\n",
    "# y2_pred= cross_val_predict(chain_clf, X_train, y2, cv=3)\n",
    "# a=accuracy_score(y1, y1_pred)\n",
    "# b=accuracy_score(y2, y2_pred)\n",
    "# c=roc_auc_score(y1, y1_pred)\n",
    "# d=roc_auc_score(y2, y2_pred)\n",
    "\n",
    "# print(a,b,c,d)\n",
    "\n",
    "# m1 = KNeighborsClassifier()\n",
    "# m2 = KNeighborsClassifier()\n",
    "\n",
    "# m1.fit(X_train, y1)\n",
    "# y1_pred_test=m1.predict(X_test)\n",
    "# m2.fit(X_train, y2)\n",
    "\n",
    "# y2_pred_test=m2.predict(X_test)\n",
    "\n",
    "# a=accuracy_score(y1_test, y1_pred_test)\n",
    "# b=accuracy_score(y2_test, y2_pred_test)\n",
    "# c=roc_auc_score(y1_test, y1_pred_test)\n",
    "# d=roc_auc_score(y2_test, y2_pred_test)\n",
    "\n",
    "# print(a,b,c,d)\n"
   ]
  },
  {
   "cell_type": "code",
   "execution_count": 21,
   "metadata": {},
   "outputs": [
    {
     "name": "stdout",
     "output_type": "stream",
     "text": [
      "0.8348233091504798 0.7706529370465715 0.6728823118172205 0.7683772288891293\n",
      "0.8369524522650693 0.7785473605391239 0.6783843464521931 0.7764292904681322\n"
     ]
    }
   ],
   "source": [
    "\n",
    "# chain_clf = RandomForestClassifier()\n",
    "\n",
    "# y1_pred = cross_val_predict(chain_clf, X_train, y1, cv=3)\n",
    "# y2_pred= cross_val_predict(chain_clf, X_train, y2, cv=3)\n",
    "# a=accuracy_score(y1, y1_pred)\n",
    "# b=accuracy_score(y2, y2_pred)\n",
    "# c=roc_auc_score(y1, y1_pred)\n",
    "# d=roc_auc_score(y2, y2_pred)\n",
    "\n",
    "# print(a,b,c,d)\n",
    "\n",
    "# m1 = RandomForestClassifier()\n",
    "# m2 = RandomForestClassifier()\n",
    "\n",
    "# m1.fit(X_train, y1)\n",
    "# y1_pred_test=m1.predict(X_test)\n",
    "# m2.fit(X_train, y2)\n",
    "\n",
    "# y2_pred_test=m2.predict(X_test)\n",
    "\n",
    "# a=accuracy_score(y1_test, y1_pred_test)\n",
    "# b=accuracy_score(y2_test, y2_pred_test)\n",
    "# c=roc_auc_score(y1_test, y1_pred_test)\n",
    "# d=roc_auc_score(y2_test, y2_pred_test)\n",
    "\n",
    "# print(a,b,c,d)\n"
   ]
  },
  {
   "cell_type": "code",
   "execution_count": 22,
   "metadata": {},
   "outputs": [
    {
     "name": "stdout",
     "output_type": "stream",
     "text": [
      "0.8337467821202902 0.7753802948747952 0.6730820576810844 0.7728943631662871\n",
      "0.8378884312991389 0.7777985773118682 0.6802729664086595 0.7753649143411487\n"
     ]
    }
   ],
   "source": [
    "# chain_clf= SVC(kernel='rbf')\n",
    "# y1_pred = cross_val_predict(chain_clf, X_train, y1, cv=3)\n",
    "# y2_pred= cross_val_predict(chain_clf, X_train, y2, cv=3)\n",
    "# a=accuracy_score(y1, y1_pred)\n",
    "# b=accuracy_score(y2, y2_pred)\n",
    "# c=roc_auc_score(y1, y1_pred)\n",
    "# d=roc_auc_score(y2, y2_pred)\n",
    "\n",
    "# print(a,b,c,d)\n",
    "\n",
    "\n",
    "# m1 = RandomForestClassifier()\n",
    "# m2 = RandomForestClassifier()\n",
    "\n",
    "# m1.fit(X_train, y1)\n",
    "# y1_pred_test=m1.predict(X_test)\n",
    "# m2.fit(X_train, y2)\n",
    "\n",
    "# y2_pred_test=m2.predict(X_test)\n",
    "\n",
    "# a=accuracy_score(y1_test, y1_pred_test)\n",
    "# b=accuracy_score(y2_test, y2_pred_test)\n",
    "# c=roc_auc_score(y1_test, y1_pred_test)\n",
    "# d=roc_auc_score(y2_test, y2_pred_test)\n",
    "\n",
    "# print(a,b,c,d)\n"
   ]
  },
  {
   "cell_type": "code",
   "execution_count": 23,
   "metadata": {},
   "outputs": [
    {
     "name": "stdout",
     "output_type": "stream",
     "text": [
      "0.8328106716592558 0.7713550198923473 0.6785911578501387 0.7688825405069516\n",
      "0.8367652564582553 0.7718083114938226 0.6821508710889241 0.7645213179353022\n"
     ]
    }
   ],
   "source": [
    "# chain_clf= ClassifierChain(LogisticRegression(),cv=3)\n",
    "# chain_clf.fit(X_train,y_train)\n",
    "# y1_pred = chain_clf.predict(X_train)\n",
    "\n",
    "# a=accuracy_score(y1, y1_pred[:,0])\n",
    "# b=accuracy_score(y2, y1_pred[:,1])\n",
    "# c=roc_auc_score(y1, y1_pred[:,0])\n",
    "# d=roc_auc_score(y2, y1_pred[:,1])\n",
    "\n",
    "# print(a,b,c,d)\n",
    "\n",
    "\n",
    "\n",
    "# m1 = ClassifierChain(LogisticRegression())\n",
    "\n",
    "# m1.fit(X_train, y_train)\n",
    "# y1_pred_test=m1.predict(X_test)\n",
    "\n",
    "# a=accuracy_score(y1_test, y1_pred_test[:,0])\n",
    "# b=accuracy_score(y2_test, y1_pred_test[:,1])\n",
    "# c=roc_auc_score(y1_test, y1_pred_test[:,0])\n",
    "# d=roc_auc_score(y2_test, y1_pred_test[:,1])\n",
    "\n",
    "# print(a,b,c,d)\n"
   ]
  },
  {
   "cell_type": "code",
   "execution_count": 24,
   "metadata": {},
   "outputs": [
    {
     "name": "stdout",
     "output_type": "stream",
     "text": [
      "0.8492394102504095 0.8058038848584133 0.6980996269439358 0.8036084164678423\n",
      "0.8391988019468364 0.7776113815050543 0.6804563867248233 0.7700069758833145\n"
     ]
    }
   ],
   "source": [
    "# chain_clf= ClassifierChain(SVC(),cv=3)\n",
    "# chain_clf.fit(X_train,y_train)\n",
    "# y1_pred = chain_clf.predict(X_train)\n",
    "\n",
    "# a=accuracy_score(y1, y1_pred[:,0])\n",
    "# b=accuracy_score(y2, y1_pred[:,1])\n",
    "# c=roc_auc_score(y1, y1_pred[:,0])\n",
    "# d=roc_auc_score(y2, y1_pred[:,1])\n",
    "\n",
    "# print(a,b,c,d)\n",
    "\n",
    "# m1 = ClassifierChain(SVC())\n",
    "\n",
    "# m1.fit(X_train, y_train)\n",
    "# y1_pred_test=m1.predict(X_test)\n",
    "\n",
    "# a=accuracy_score(y1_test, y1_pred_test[:,0])\n",
    "# b=accuracy_score(y2_test, y1_pred_test[:,1])\n",
    "# c=roc_auc_score(y1_test, y1_pred_test[:,0])\n",
    "# d=roc_auc_score(y2_test, y1_pred_test[:,1])\n",
    "\n",
    "# print(a,b,c,d)"
   ]
  },
  {
   "cell_type": "code",
   "execution_count": 25,
   "metadata": {},
   "outputs": [
    {
     "name": "stdout",
     "output_type": "stream",
     "text": [
      "0.8331851158436695 0.7726655745377955 0.6638108993641416 0.7709978659819334\n",
      "0.8352676900037439 0.775926619243729 0.6653365016934338 0.7739148394664798\n"
     ]
    }
   ],
   "source": [
    "# chain_clf= RandomForestClassifier()\n",
    "# chain_clf.fit(X_train,y_train)\n",
    "# y1_pred = cross_val_predict(chain_clf, X_train, y_train, cv=3)\n",
    "\n",
    "# a=accuracy_score(y1, y1_pred[:,0])\n",
    "# b=accuracy_score(y2, y1_pred[:,1])\n",
    "# c=roc_auc_score(y1, y1_pred[:,0])\n",
    "# d=roc_auc_score(y2, y1_pred[:,1])\n",
    "\n",
    "# print(a,b,c,d)\n",
    "\n",
    "# m1 = RandomForestClassifier()\n",
    "\n",
    "# m1.fit(X_train, y_train)\n",
    "# y1_pred_test=m1.predict(X_test)\n",
    "\n",
    "# a=accuracy_score(y1_test, y1_pred_test[:,0])\n",
    "# b=accuracy_score(y2_test, y1_pred_test[:,1])\n",
    "# c=roc_auc_score(y1_test, y1_pred_test[:,0])\n",
    "# d=roc_auc_score(y2_test, y1_pred_test[:,1])\n",
    "\n",
    "# print(a,b,c,d)"
   ]
  },
  {
   "cell_type": "code",
   "execution_count": 26,
   "metadata": {},
   "outputs": [
    {
     "name": "stdout",
     "output_type": "stream",
     "text": [
      "0.8545284343552539 0.8014509712146033 0.7105336058171752 0.7990431734092358\n",
      "0.8026956196181205 0.7064769749157619 0.6187796771130105 0.702578141394931\n"
     ]
    }
   ],
   "source": [
    "# chain_clf= KNeighborsClassifier()\n",
    "# chain_clf.fit(X_train,y_train)\n",
    "# y1_pred = chain_clf.predict(X_train)\n",
    "\n",
    "# a=accuracy_score(y1, y1_pred[:,0])\n",
    "# b=accuracy_score(y2, y1_pred[:,1])\n",
    "# c=roc_auc_score(y1, y1_pred[:,0])\n",
    "# d=roc_auc_score(y2, y1_pred[:,1])\n",
    "\n",
    "# print(a,b,c,d)\n",
    "# m1 = KNeighborsClassifier()\n",
    "\n",
    "# m1.fit(X_train, y_train)\n",
    "# y1_pred_test=m1.predict(X_test)\n",
    "\n",
    "# a=accuracy_score(y1_test, y1_pred_test[:,0])\n",
    "# b=accuracy_score(y2_test, y1_pred_test[:,1])\n",
    "# c=roc_auc_score(y1_test, y1_pred_test[:,0])\n",
    "# d=roc_auc_score(y2_test, y1_pred_test[:,1])\n",
    "\n",
    "# print(a,b,c,d)"
   ]
  },
  {
   "cell_type": "code",
   "execution_count": 27,
   "metadata": {},
   "outputs": [],
   "source": [
    "test_id=test['respondent_id']\n",
    "test.drop(columns=['respondent_id','employment_industry', 'employment_occupation','health_insurance'], inplace=True)"
   ]
  },
  {
   "cell_type": "code",
   "execution_count": 28,
   "metadata": {},
   "outputs": [
    {
     "data": {
      "text/plain": [
       "0"
      ]
     },
     "execution_count": 28,
     "metadata": {},
     "output_type": "execute_result"
    }
   ],
   "source": [
    "label_encode_col = ['age_group', 'education', 'income_poverty','census_msa','marital_status','rent_or_own']\n",
    "labels = {\n",
    "    'age_group': {'18 - 34 Years': 0, '35 - 44 Years': 1, '45 - 54 Years': 2,'55 - 64 Years': 3, '65+ Years': 4},\n",
    "    'education': {'nan':0,'< 12 Years': 1, '12 Years': 2, 'Some College': 3,'College Graduate':4},\n",
    "    'income_poverty': {'nan':0,'Below Poverty': 0, '<= $75,000, Above Poverty': 1, '> $75,000': 2},\n",
    "    'census_msa':{ 'Non-MSA': 0, 'MSA, Not Principle  City': 1, 'MSA, Principle City': 2},\n",
    "    'marital_status': {'nan':0,'Not Married': 0, 'Married': 1},\n",
    "    'rent_or_own': {'nan':0,'Rent': 0, 'Own': 1},\n",
    "    \n",
    "}\n",
    "\n",
    "for col in label_encode_col:\n",
    "    test[col] = test[col].map(labels[col])\n",
    "\n",
    "test.loc[:, label_encode_col] = test.loc[:, label_encode_col].fillna(0)\n",
    "test['rent_or_own'].isnull().sum()"
   ]
  },
  {
   "cell_type": "code",
   "execution_count": 29,
   "metadata": {},
   "outputs": [],
   "source": [
    "test['employment_status'].fillna('Employed', inplace=True)"
   ]
  },
  {
   "cell_type": "markdown",
   "metadata": {},
   "source": [
    "# Using Logistic Regression"
   ]
  },
  {
   "cell_type": "code",
   "execution_count": 32,
   "metadata": {},
   "outputs": [],
   "source": [
    "test_encoded = pipeline.transform(test)\n",
    "y_1_pred = m1.predict_proba(test_encoded)\n",
    "y_2_pred = m2.predict_proba(test_encoded)"
   ]
  },
  {
   "cell_type": "code",
   "execution_count": 33,
   "metadata": {},
   "outputs": [],
   "source": [
    "y_1_pred=y_1_pred[:,1]\n",
    "y_2_pred=y_2_pred[:,1]\n",
    "\n",
    "submission = pd.DataFrame({\n",
    "  \"respondent_id\": test_id,\n",
    "  \"xyz_vaccine\": y_1_pred,\n",
    "  \"seasonal_vaccine\": y_2_pred\n",
    "})\n"
   ]
  },
  {
   "cell_type": "code",
   "execution_count": 34,
   "metadata": {},
   "outputs": [],
   "source": [
    "submission.to_csv('submission.csv', index=False)"
   ]
  },
  {
   "cell_type": "code",
   "execution_count": 35,
   "metadata": {},
   "outputs": [],
   "source": [
    "submission.to_excel('submission.xlsx', index=False)"
   ]
  },
  {
   "cell_type": "code",
   "execution_count": null,
   "metadata": {},
   "outputs": [],
   "source": []
  }
 ],
 "metadata": {
  "kernelspec": {
   "display_name": "Python 3",
   "language": "python",
   "name": "python3"
  },
  "language_info": {
   "codemirror_mode": {
    "name": "ipython",
    "version": 3
   },
   "file_extension": ".py",
   "mimetype": "text/x-python",
   "name": "python",
   "nbconvert_exporter": "python",
   "pygments_lexer": "ipython3",
   "version": "3.11.4"
  }
 },
 "nbformat": 4,
 "nbformat_minor": 2
}
